{
 "cells": [
  {
   "cell_type": "code",
   "execution_count": 4,
   "id": "71e70064-dc06-465c-b4cb-cad324dedfd8",
   "metadata": {},
   "outputs": [
    {
     "ename": "ImportError",
     "evalue": "cannot import name 'scrapingGeneral' from 'class_PAP' (C:\\Users\\boxxi\\Programmation\\Master\\Python avancee\\M1_PythonProject\\class_PAP.py)",
     "output_type": "error",
     "traceback": [
      "\u001b[1;31m---------------------------------------------------------------------------\u001b[0m",
      "\u001b[1;31mImportError\u001b[0m                               Traceback (most recent call last)",
      "Cell \u001b[1;32mIn[4], line 2\u001b[0m\n\u001b[0;32m      1\u001b[0m \u001b[38;5;66;03m#Import de scrapingGeneral, qui gère toutes les commandes\u001b[39;00m\n\u001b[1;32m----> 2\u001b[0m \u001b[38;5;28;01mfrom\u001b[39;00m \u001b[38;5;21;01mclass_PAP\u001b[39;00m \u001b[38;5;28;01mimport\u001b[39;00m scrapingGeneral\n\u001b[0;32m      3\u001b[0m \u001b[38;5;28;01mfrom\u001b[39;00m \u001b[38;5;21;01mmain_PAP\u001b[39;00m \u001b[38;5;28;01mimport\u001b[39;00m main\n\u001b[0;32m      6\u001b[0m \u001b[38;5;66;03m#Création d'un objets scrapingGeneral\u001b[39;00m\n",
      "\u001b[1;31mImportError\u001b[0m: cannot import name 'scrapingGeneral' from 'class_PAP' (C:\\Users\\boxxi\\Programmation\\Master\\Python avancee\\M1_PythonProject\\class_PAP.py)"
     ]
    }
   ],
   "source": [
    "#Import de scrapingGeneral, qui gère toutes les commandes\n",
    "from class_PAP import ScrapingGeneral\n",
    "from main_PAP import main\n",
    "\n",
    "\n",
    "#Création d'un objets scrapingGeneral\n",
    "sg = ScrapingGeneral()\n",
    "\n",
    "#Entrer une valeur pour faire une query\n",
    "main(sg)"
   ]
  },
  {
   "cell_type": "markdown",
   "id": "330594ba-668c-41d5-a9b8-8b21819b117f",
   "metadata": {},
   "source": [
    "..."
   ]
  }
 ],
 "metadata": {
  "kernelspec": {
   "display_name": "Python 3 (ipykernel)",
   "language": "python",
   "name": "python3"
  },
  "language_info": {
   "codemirror_mode": {
    "name": "ipython",
    "version": 3
   },
   "file_extension": ".py",
   "mimetype": "text/x-python",
   "name": "python",
   "nbconvert_exporter": "python",
   "pygments_lexer": "ipython3",
   "version": "3.11.5"
  }
 },
 "nbformat": 4,
 "nbformat_minor": 5
}
