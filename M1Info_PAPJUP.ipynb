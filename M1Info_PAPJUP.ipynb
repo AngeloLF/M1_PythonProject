{
 "cells": [
  {
   "cell_type": "code",
   "execution_count": 1,
   "id": "71e70064-dc06-465c-b4cb-cad324dedfd8",
   "metadata": {},
   "outputs": [
    {
     "data": {
      "application/vnd.jupyter.widget-view+json": {
       "model_id": "4b018bb0cd814456b8f592f5773a7197",
       "version_major": 2,
       "version_minor": 0
      },
      "text/plain": [
       "RadioButtons(description='Option :', options=('Charger les données', 'Faire la recherche, save et charger'), v…"
      ]
     },
     "metadata": {},
     "output_type": "display_data"
    },
    {
     "data": {
      "application/vnd.jupyter.widget-view+json": {
       "model_id": "a7534cb003794d34ad88b85e6f0b43a9",
       "version_major": 2,
       "version_minor": 0
      },
      "text/plain": [
       "Text(value='astrophysics', description='Query :', placeholder='Type something')"
      ]
     },
     "metadata": {},
     "output_type": "display_data"
    },
    {
     "data": {
      "application/vnd.jupyter.widget-view+json": {
       "model_id": "e73cd09833b84e4b90e6a1de0e56e4f5",
       "version_major": 2,
       "version_minor": 0
      },
      "text/plain": [
       "IntSlider(value=10, continuous_update=False, description=\"D'Arxiv :\", max=500)"
      ]
     },
     "metadata": {},
     "output_type": "display_data"
    },
    {
     "data": {
      "application/vnd.jupyter.widget-view+json": {
       "model_id": "792f57118a5949f4a97aacb31f5e72c5",
       "version_major": 2,
       "version_minor": 0
      },
      "text/plain": [
       "IntSlider(value=10, continuous_update=False, description='De Reddit :', max=500)"
      ]
     },
     "metadata": {},
     "output_type": "display_data"
    },
    {
     "data": {
      "application/vnd.jupyter.widget-view+json": {
       "model_id": "7cd5cdcc42554bc5b926f519b6385a33",
       "version_major": 2,
       "version_minor": 0
      },
      "text/plain": [
       "Button(description='Lezgongue', style=ButtonStyle())"
      ]
     },
     "metadata": {},
     "output_type": "display_data"
    },
    {
     "data": {
      "application/vnd.jupyter.widget-view+json": {
       "model_id": "1fdfd6d948c14229a0f6d5fa4b02957e",
       "version_major": 2,
       "version_minor": 0
      },
      "text/plain": [
       "Output()"
      ]
     },
     "metadata": {},
     "output_type": "display_data"
    }
   ],
   "source": [
    "#Import de scrapingGeneral, qui gère toutes les commandes\n",
    "from class_PAP import ScrapingGeneral\n",
    "from main_PAP import main\n",
    "\n",
    "#Création d'un objets scrapingGeneral\n",
    "sg = ScrapingGeneral()\n",
    "\n",
    "#Entrer une valeur pour faire une query\n",
    "main(sg)"
   ]
  },
  {
   "cell_type": "markdown",
   "id": "330594ba-668c-41d5-a9b8-8b21819b117f",
   "metadata": {},
   "source": [
    "..."
   ]
  }
 ],
 "metadata": {
  "kernelspec": {
   "display_name": "Python 3 (ipykernel)",
   "language": "python",
   "name": "python3"
  },
  "language_info": {
   "codemirror_mode": {
    "name": "ipython",
    "version": 3
   },
   "file_extension": ".py",
   "mimetype": "text/x-python",
   "name": "python",
   "nbconvert_exporter": "python",
   "pygments_lexer": "ipython3",
   "version": "3.11.5"
  }
 },
 "nbformat": 4,
 "nbformat_minor": 5
}
