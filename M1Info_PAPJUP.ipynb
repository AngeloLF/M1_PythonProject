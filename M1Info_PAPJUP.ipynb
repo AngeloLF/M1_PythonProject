{
 "cells": [
  {
   "cell_type": "code",
   "execution_count": 2,
   "id": "71e70064-dc06-465c-b4cb-cad324dedfd8",
   "metadata": {},
   "outputs": [
    {
     "data": {
      "application/vnd.jupyter.widget-view+json": {
       "model_id": "fe8af28ca51244f99e85db2582e6337a",
       "version_major": 2,
       "version_minor": 0
      },
      "text/plain": [
       "RadioButtons(description='Option :', options=('Charger les données', 'Faire la recherche, save et charger'), v…"
      ]
     },
     "metadata": {},
     "output_type": "display_data"
    },
    {
     "data": {
      "application/vnd.jupyter.widget-view+json": {
       "model_id": "f5134d26d5084fdeb4d71bcf39472971",
       "version_major": 2,
       "version_minor": 0
      },
      "text/plain": [
       "Text(value='astrophysics', description='Query :', placeholder='Type something')"
      ]
     },
     "metadata": {},
     "output_type": "display_data"
    },
    {
     "data": {
      "application/vnd.jupyter.widget-view+json": {
       "model_id": "a8359a1f834749888ee055d1f2f1b162",
       "version_major": 2,
       "version_minor": 0
      },
      "text/plain": [
       "IntSlider(value=10, continuous_update=False, description=\"D'Arxiv :\", max=500)"
      ]
     },
     "metadata": {},
     "output_type": "display_data"
    },
    {
     "data": {
      "application/vnd.jupyter.widget-view+json": {
       "model_id": "12868ae4398c4761b91ed8ac311e7d6a",
       "version_major": 2,
       "version_minor": 0
      },
      "text/plain": [
       "IntSlider(value=10, continuous_update=False, description='De Reddit :', max=500)"
      ]
     },
     "metadata": {},
     "output_type": "display_data"
    },
    {
     "data": {
      "application/vnd.jupyter.widget-view+json": {
       "model_id": "7467b8f28490499abd9b27db04b69e4e",
       "version_major": 2,
       "version_minor": 0
      },
      "text/plain": [
       "Button(description='Lezgongue', style=ButtonStyle())"
      ]
     },
     "metadata": {},
     "output_type": "display_data"
    },
    {
     "data": {
      "application/vnd.jupyter.widget-view+json": {
       "model_id": "b97ed4596e5d48ed8808fa82d689ebe2",
       "version_major": 2,
       "version_minor": 0
      },
      "text/plain": [
       "Output()"
      ]
     },
     "metadata": {},
     "output_type": "display_data"
    }
   ],
   "source": [
    "#Import de scrapingGeneral, qui gère toutes les commandes\n",
    "from class_PAP import ScrapingGeneral\n",
    "from main_PAP import main\n",
    "\n",
    "\n",
    "#Création d'un objets scrapingGeneral\n",
    "sg = ScrapingGeneral()\n",
    "\n",
    "#Entrer une valeur pour faire une query\n",
    "main(sg)"
   ]
  },
  {
   "cell_type": "markdown",
   "id": "330594ba-668c-41d5-a9b8-8b21819b117f",
   "metadata": {},
   "source": [
    "..."
   ]
  }
 ],
 "metadata": {
  "kernelspec": {
   "display_name": "Python 3 (ipykernel)",
   "language": "python",
   "name": "python3"
  },
  "language_info": {
   "codemirror_mode": {
    "name": "ipython",
    "version": 3
   },
   "file_extension": ".py",
   "mimetype": "text/x-python",
   "name": "python",
   "nbconvert_exporter": "python",
   "pygments_lexer": "ipython3",
   "version": "3.11.5"
  }
 },
 "nbformat": 4,
 "nbformat_minor": 5
}
