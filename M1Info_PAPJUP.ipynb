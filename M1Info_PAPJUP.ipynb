{
 "cells": [
  {
   "cell_type": "code",
   "execution_count": 1,
   "id": "71e70064-dc06-465c-b4cb-cad324dedfd8",
   "metadata": {},
   "outputs": [
    {
     "data": {
      "application/vnd.jupyter.widget-view+json": {
       "model_id": "276d3331fa2345a7b41deb1fcd9f1ba0",
       "version_major": 2,
       "version_minor": 0
      },
      "text/plain": [
       "RadioButtons(description='Option :', options=('Charger les données', 'Faire la recherche, save et charger'), v…"
      ]
     },
     "metadata": {},
     "output_type": "display_data"
    },
    {
     "data": {
      "application/vnd.jupyter.widget-view+json": {
       "model_id": "c3a987eb09784df49775841b89e86b7a",
       "version_major": 2,
       "version_minor": 0
      },
      "text/plain": [
       "Text(value='astrophysics', description='Query :', placeholder='Type something')"
      ]
     },
     "metadata": {},
     "output_type": "display_data"
    },
    {
     "data": {
      "application/vnd.jupyter.widget-view+json": {
       "model_id": "5c595ae4a7294f4895745e9cce109644",
       "version_major": 2,
       "version_minor": 0
      },
      "text/plain": [
       "IntSlider(value=10, continuous_update=False, description=\"D'Arxiv :\", max=500)"
      ]
     },
     "metadata": {},
     "output_type": "display_data"
    },
    {
     "data": {
      "application/vnd.jupyter.widget-view+json": {
       "model_id": "964979bf997b4c4cbbc7221a23f74155",
       "version_major": 2,
       "version_minor": 0
      },
      "text/plain": [
       "IntSlider(value=10, continuous_update=False, description='De Reddit :', max=500)"
      ]
     },
     "metadata": {},
     "output_type": "display_data"
    },
    {
     "data": {
      "application/vnd.jupyter.widget-view+json": {
       "model_id": "f860c363a16c41ad9ec4e1f59a12b827",
       "version_major": 2,
       "version_minor": 0
      },
      "text/plain": [
       "Button(description='Lezgongue', style=ButtonStyle())"
      ]
     },
     "metadata": {},
     "output_type": "display_data"
    },
    {
     "data": {
      "application/vnd.jupyter.widget-view+json": {
       "model_id": "dca9c9657b1742b3bbb0ed697b6523ee",
       "version_major": 2,
       "version_minor": 0
      },
      "text/plain": [
       "Output()"
      ]
     },
     "metadata": {},
     "output_type": "display_data"
    }
   ],
   "source": [
    "#Import de scrapingGeneral, qui gère toutes les commandes\n",
    "from class_PAP import scrapingGeneral\n",
    "from main_PAP import main\n",
    "\n",
    "\n",
    "#Création d'un objets scrapingGeneral\n",
    "sg = scrapingGeneral()\n",
    "\n",
    "#Entrer une valeur pour faire une query\n",
    "main(sg)"
   ]
  },
  {
   "cell_type": "markdown",
   "id": "330594ba-668c-41d5-a9b8-8b21819b117f",
   "metadata": {},
   "source": [
    "..."
   ]
  }
 ],
 "metadata": {
  "kernelspec": {
   "display_name": "Python 3 (ipykernel)",
   "language": "python",
   "name": "python3"
  },
  "language_info": {
   "codemirror_mode": {
    "name": "ipython",
    "version": 3
   },
   "file_extension": ".py",
   "mimetype": "text/x-python",
   "name": "python",
   "nbconvert_exporter": "python",
   "pygments_lexer": "ipython3",
   "version": "3.11.5"
  }
 },
 "nbformat": 4,
 "nbformat_minor": 5
}
