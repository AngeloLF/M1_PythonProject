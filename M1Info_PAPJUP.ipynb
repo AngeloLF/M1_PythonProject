{
 "cells": [
  {
   "cell_type": "code",
   "execution_count": 2,
   "id": "71e70064-dc06-465c-b4cb-cad324dedfd8",
   "metadata": {},
   "outputs": [
    {
     "data": {
      "application/vnd.jupyter.widget-view+json": {
       "model_id": "55e7de6f4e5a4878949c30474ade6372",
       "version_major": 2,
       "version_minor": 0
      },
      "text/plain": [
       "RadioButtons(description='Option :', options=('Charger les données', 'Faire la recherche, save et charger'), v…"
      ]
     },
     "metadata": {},
     "output_type": "display_data"
    },
    {
     "data": {
      "application/vnd.jupyter.widget-view+json": {
       "model_id": "2afc45d43dcd4d6ea4c2cbab7c465128",
       "version_major": 2,
       "version_minor": 0
      },
      "text/plain": [
       "Text(value='astrophysics', description='Query :', placeholder='Type something')"
      ]
     },
     "metadata": {},
     "output_type": "display_data"
    },
    {
     "data": {
      "application/vnd.jupyter.widget-view+json": {
       "model_id": "907c9b4684c64e2f9f77e41540fab4a4",
       "version_major": 2,
       "version_minor": 0
      },
      "text/plain": [
       "IntSlider(value=10, continuous_update=False, description=\"D'Arxiv :\", max=500)"
      ]
     },
     "metadata": {},
     "output_type": "display_data"
    },
    {
     "data": {
      "application/vnd.jupyter.widget-view+json": {
       "model_id": "76215fa2a2d24b9f93789c84631f52f4",
       "version_major": 2,
       "version_minor": 0
      },
      "text/plain": [
       "IntSlider(value=10, continuous_update=False, description='De Reddit :', max=500)"
      ]
     },
     "metadata": {},
     "output_type": "display_data"
    },
    {
     "data": {
      "application/vnd.jupyter.widget-view+json": {
       "model_id": "1a627bc4d4ed462383674cbe018e9a89",
       "version_major": 2,
       "version_minor": 0
      },
      "text/plain": [
       "Button(description='Lezgongue', style=ButtonStyle())"
      ]
     },
     "metadata": {},
     "output_type": "display_data"
    },
    {
     "data": {
      "application/vnd.jupyter.widget-view+json": {
       "model_id": "46286c9e84b0452c83a5e717675dd383",
       "version_major": 2,
       "version_minor": 0
      },
      "text/plain": [
       "Output()"
      ]
     },
     "metadata": {},
     "output_type": "display_data"
    }
   ],
   "source": [
    "#Import de scrapingGeneral, qui gère toutes les commandes\n",
    "from class_PAP import ScrapingGeneral\n",
    "from main_PAP import main\n",
    "\n",
    "#Création d'un objets scrapingGeneral\n",
    "sg = ScrapingGeneral()\n",
    "\n",
    "#Entrer une valeur pour faire une query\n",
    "main(sg)"
   ]
  },
  {
   "cell_type": "markdown",
   "id": "330594ba-668c-41d5-a9b8-8b21819b117f",
   "metadata": {},
   "source": [
    "..."
   ]
  }
 ],
 "metadata": {
  "kernelspec": {
   "display_name": "Python 3 (ipykernel)",
   "language": "python",
   "name": "python3"
  },
  "language_info": {
   "codemirror_mode": {
    "name": "ipython",
    "version": 3
   },
   "file_extension": ".py",
   "mimetype": "text/x-python",
   "name": "python",
   "nbconvert_exporter": "python",
   "pygments_lexer": "ipython3",
   "version": "3.11.5"
  }
 },
 "nbformat": 4,
 "nbformat_minor": 5
}
